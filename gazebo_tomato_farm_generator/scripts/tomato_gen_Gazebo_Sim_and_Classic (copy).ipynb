{
 "cells": [
  {
   "cell_type": "code",
   "execution_count": 1,
   "metadata": {},
   "outputs": [
    {
     "name": "stderr",
     "output_type": "stream",
     "text": [
      "1696870670.571400 [0]    python3: selected interface \"lo\" is not multicast-capable: disabling multicast\n"
     ]
    }
   ],
   "source": [
    "import rclpy\n",
    "from rclpy.node import Node\n",
    "import sys\n",
    "import numpy as np\n",
    "import collections\n",
    "from pathlib import Path\n",
    "import json\n",
    "import shutil\n",
    "from cookiecutter.main import cookiecutter\n",
    "import math\n",
    "\n",
    "rclpy.init(args=sys.argv)\n",
    "node = rclpy.create_node('deneme')"
   ]
  },
  {
   "cell_type": "code",
   "execution_count": 2,
   "metadata": {},
   "outputs": [
    {
     "name": "stdout",
     "output_type": "stream",
     "text": [
      "param \"~seed\" = \"988\"\n",
      "param \"~world_name\" = \"tomato_field\"\n",
      "param \"~model_name_prefix\" = \"tomato\"\n",
      "param \"~row_count\" = \"3\"\n",
      "param \"~row_length\" = \"3\"\n",
      "param \"~row_dist\" = \"2.0\"\n",
      "param \"~crop_dist\" = \"0.7\"\n"
     ]
    }
   ],
   "source": [
    "def get_param(name, default):\n",
    "    try:\n",
    "        value = node.declare_parameter(name, default).value\n",
    "    except ConnectionRefusedError:\n",
    "        value = default\n",
    "    print('param \"{}\" = \"{}\"'.format(name, value))\n",
    "    return value\n",
    "\n",
    "SEED = int(get_param('~seed', '988'))\n",
    "WORLD_NAME = get_param('~world_name', 'tomato_field')\n",
    "MODEL_NAME_PREFIX = get_param('~model_name_prefix', 'tomato')\n",
    "ROW_COUNT = int(get_param('~row_count', '3'))\n",
    "ROW_LENGTH = int(get_param('~row_length', '3'))\n",
    "ROW_DIST = float(get_param('~row_dist', '2.0'))\n",
    "CROP_DIST = float(get_param('~crop_dist', '0.7'))\n",
    "CROP_NUM_IN_A_ROW = int(math.floor(ROW_LENGTH/CROP_DIST + 1))\n",
    "FARM_SIZE = [math.ceil((ROW_COUNT + 1) * ROW_DIST), math.ceil(ROW_LENGTH + 2 * ROW_DIST)]\n",
    "FARM_NAME = str(FARM_SIZE[0]) + 'mx' + str(FARM_SIZE[1]) + 'm'"
   ]
  },
  {
   "cell_type": "code",
   "execution_count": 3,
   "metadata": {},
   "outputs": [
    {
     "name": "stdout",
     "output_type": "stream",
     "text": [
      "param \"~out_path\" = \"/home/ayilmaz/random_farm_ws/src/gazebo_tomato_farm_generator/generated\"\n",
      "param \"~world_template\" = \"/home/ayilmaz/random_farm_ws/src/gazebo_tomato_farm_generator/templates/tomato_world_gazebo_classic_and_sim\"\n",
      "param \"~model_template\" = \"/home/ayilmaz/random_farm_ws/src/gazebo_tomato_farm_generator/templates/tomato_model_gazebo_classic_and_sim\"\n"
     ]
    }
   ],
   "source": [
    "#OUT_PATH = Path(get_param('~out_path', str(Path().resolve().parent / 'generated/test01'))).resolve()\n",
    "OUT_PATH = Path(get_param('~out_path', str(Path().resolve().parent / 'generated'))).resolve()\n",
    "WORLD_TEMPLATE = Path(get_param('~world_template', str(Path().resolve().parent / 'templates/tomato_world_gazebo_classic_and_sim'))).resolve()\n",
    "MODEL_TEMPLATE = Path(get_param('~model_template', str(Path().resolve().parent / 'templates/tomato_model_gazebo_classic_and_sim'))).resolve()\n",
    "\n",
    "shutil.rmtree(OUT_PATH, ignore_errors=True)\n",
    "np.random.seed(SEED)\n"
   ]
  },
  {
   "cell_type": "code",
   "execution_count": 7,
   "metadata": {},
   "outputs": [],
   "source": [
    "# helper class to build the markers.json\n",
    "class Markers:\n",
    "    markers = []\n",
    "    last_id = 0\n",
    "\n",
    "    @staticmethod\n",
    "    def next_id():\n",
    "        Markers.last_id += 1\n",
    "        return Markers.last_id\n",
    "\n",
    "    @staticmethod\n",
    "    def reset():\n",
    "        Markers.markers = []\n",
    "    \n",
    "    @staticmethod\n",
    "    def add_plant(x, y, z):\n",
    "        id = Markers.next_id()\n",
    "        Markers.markers.append({\n",
    "            'marker_type': 'PLANT',\n",
    "            'id': id,\n",
    "            'translation': [x, y, z]\n",
    "        })\n",
    "        return id\n",
    "    \n",
    "\n",
    "    @staticmethod\n",
    "    def add_fruit(x, y, z, plant_id):\n",
    "        id = Markers.next_id()\n",
    "        Markers.markers.append({\n",
    "            'marker_type': 'FRUIT',\n",
    "            'id': id,\n",
    "            'translation': [x, y, z],\n",
    "            'plant_id': plant_id\n",
    "        })\n",
    "        return id\n",
    "    \n",
    "    @staticmethod\n",
    "    def dumps():\n",
    "        return json.dumps(Markers.markers, indent=4)"
   ]
  },
  {
   "cell_type": "code",
   "execution_count": 9,
   "metadata": {},
   "outputs": [
    {
     "ename": "UndefinedVariableInTemplate",
     "evalue": "Unable to create project directory '{{cookiecutter.farm_name}}'. Error message: 'collections.OrderedDict object' has no attribute 'farm_name'. Context: OrderedDict([('cookiecutter', OrderedDict([('model_name', 'tomato_0'), ('world_name', 'tomato_field'), ('_template', '/home/ayilmaz/random_farm_ws/src/gazebo_tomato_farm_generator/templates/tomato_model_gazebo_classic_and_sim'), ('_output_dir', '/home/ayilmaz/random_farm_ws/src/gazebo_tomato_farm_generator/generated/8mx7m'), ('_repo_dir', '/home/ayilmaz/random_farm_ws/src/gazebo_tomato_farm_generator/templates/tomato_model_gazebo_classic_and_sim'), ('_checkout', None)])), ('_cookiecutter', {'model_name': 'tomato_0', 'world_name': 'tomato_field'})])",
     "output_type": "error",
     "traceback": [
      "\u001b[0;31m---------------------------------------------------------------------------\u001b[0m",
      "\u001b[0;31mUndefinedError\u001b[0m                            Traceback (most recent call last)",
      "\u001b[0;32m~/.local/lib/python3.10/site-packages/cookiecutter/generate.py\u001b[0m in \u001b[0;36mgenerate_files\u001b[0;34m(repo_dir, context, output_dir, overwrite_if_exists, skip_if_file_exists, accept_hooks, keep_project_on_failure)\u001b[0m\n\u001b[1;32m    318\u001b[0m     \u001b[0;32mtry\u001b[0m\u001b[0;34m:\u001b[0m\u001b[0;34m\u001b[0m\u001b[0;34m\u001b[0m\u001b[0m\n\u001b[0;32m--> 319\u001b[0;31m         project_dir, output_directory_created = render_and_create_dir(\n\u001b[0m\u001b[1;32m    320\u001b[0m             \u001b[0munrendered_dir\u001b[0m\u001b[0;34m,\u001b[0m \u001b[0mcontext\u001b[0m\u001b[0;34m,\u001b[0m \u001b[0moutput_dir\u001b[0m\u001b[0;34m,\u001b[0m \u001b[0menv\u001b[0m\u001b[0;34m,\u001b[0m \u001b[0moverwrite_if_exists\u001b[0m\u001b[0;34m\u001b[0m\u001b[0;34m\u001b[0m\u001b[0m\n",
      "\u001b[0;32m~/.local/lib/python3.10/site-packages/cookiecutter/generate.py\u001b[0m in \u001b[0;36mrender_and_create_dir\u001b[0;34m(dirname, context, output_dir, environment, overwrite_if_exists)\u001b[0m\n\u001b[1;32m    225\u001b[0m     \u001b[0mname_tmpl\u001b[0m \u001b[0;34m=\u001b[0m \u001b[0menvironment\u001b[0m\u001b[0;34m.\u001b[0m\u001b[0mfrom_string\u001b[0m\u001b[0;34m(\u001b[0m\u001b[0mdirname\u001b[0m\u001b[0;34m)\u001b[0m\u001b[0;34m\u001b[0m\u001b[0;34m\u001b[0m\u001b[0m\n\u001b[0;32m--> 226\u001b[0;31m     \u001b[0mrendered_dirname\u001b[0m \u001b[0;34m=\u001b[0m \u001b[0mname_tmpl\u001b[0m\u001b[0;34m.\u001b[0m\u001b[0mrender\u001b[0m\u001b[0;34m(\u001b[0m\u001b[0;34m**\u001b[0m\u001b[0mcontext\u001b[0m\u001b[0;34m)\u001b[0m\u001b[0;34m\u001b[0m\u001b[0;34m\u001b[0m\u001b[0m\n\u001b[0m\u001b[1;32m    227\u001b[0m \u001b[0;34m\u001b[0m\u001b[0m\n",
      "\u001b[0;32m/usr/lib/python3/dist-packages/jinja2/environment.py\u001b[0m in \u001b[0;36mrender\u001b[0;34m(self, *args, **kwargs)\u001b[0m\n\u001b[1;32m   1290\u001b[0m         \u001b[0;32mexcept\u001b[0m \u001b[0mException\u001b[0m\u001b[0;34m:\u001b[0m\u001b[0;34m\u001b[0m\u001b[0;34m\u001b[0m\u001b[0m\n\u001b[0;32m-> 1291\u001b[0;31m             \u001b[0mself\u001b[0m\u001b[0;34m.\u001b[0m\u001b[0menvironment\u001b[0m\u001b[0;34m.\u001b[0m\u001b[0mhandle_exception\u001b[0m\u001b[0;34m(\u001b[0m\u001b[0;34m)\u001b[0m\u001b[0;34m\u001b[0m\u001b[0;34m\u001b[0m\u001b[0m\n\u001b[0m\u001b[1;32m   1292\u001b[0m \u001b[0;34m\u001b[0m\u001b[0m\n",
      "\u001b[0;32m/usr/lib/python3/dist-packages/jinja2/environment.py\u001b[0m in \u001b[0;36mhandle_exception\u001b[0;34m(self, source)\u001b[0m\n\u001b[1;32m    924\u001b[0m \u001b[0;34m\u001b[0m\u001b[0m\n\u001b[0;32m--> 925\u001b[0;31m         \u001b[0;32mraise\u001b[0m \u001b[0mrewrite_traceback_stack\u001b[0m\u001b[0;34m(\u001b[0m\u001b[0msource\u001b[0m\u001b[0;34m=\u001b[0m\u001b[0msource\u001b[0m\u001b[0;34m)\u001b[0m\u001b[0;34m\u001b[0m\u001b[0;34m\u001b[0m\u001b[0m\n\u001b[0m\u001b[1;32m    926\u001b[0m \u001b[0;34m\u001b[0m\u001b[0m\n",
      "\u001b[0;32m<template>\u001b[0m in \u001b[0;36mtop-level template code\u001b[0;34m()\u001b[0m\n",
      "\u001b[0;31mUndefinedError\u001b[0m: 'collections.OrderedDict object' has no attribute 'farm_name'",
      "\nThe above exception was the direct cause of the following exception:\n",
      "\u001b[0;31mUndefinedVariableInTemplate\u001b[0m               Traceback (most recent call last)",
      "\u001b[0;32m/tmp/ipykernel_417162/1727682281.py\u001b[0m in \u001b[0;36m<module>\u001b[0;34m\u001b[0m\n\u001b[1;32m      6\u001b[0m         \u001b[0mmodel_name\u001b[0m \u001b[0;34m=\u001b[0m \u001b[0;34m'tomato_{}'\u001b[0m\u001b[0;34m.\u001b[0m\u001b[0mformat\u001b[0m\u001b[0;34m(\u001b[0m\u001b[0mx\u001b[0m \u001b[0;34m*\u001b[0m \u001b[0mCROP_NUM_IN_A_ROW\u001b[0m \u001b[0;34m+\u001b[0m \u001b[0my\u001b[0m\u001b[0;34m)\u001b[0m\u001b[0;34m\u001b[0m\u001b[0;34m\u001b[0m\u001b[0m\n\u001b[1;32m      7\u001b[0m \u001b[0;34m\u001b[0m\u001b[0m\n\u001b[0;32m----> 8\u001b[0;31m         cookiecutter(str(MODEL_TEMPLATE),\n\u001b[0m\u001b[1;32m      9\u001b[0m              \u001b[0moutput_dir\u001b[0m\u001b[0;34m=\u001b[0m\u001b[0mstr\u001b[0m\u001b[0;34m(\u001b[0m\u001b[0mOUT_PATH\u001b[0m\u001b[0;34m)\u001b[0m \u001b[0;34m+\u001b[0m \u001b[0;34m'/'\u001b[0m \u001b[0;34m+\u001b[0m \u001b[0mstr\u001b[0m\u001b[0;34m(\u001b[0m\u001b[0mFARM_NAME\u001b[0m\u001b[0;34m)\u001b[0m\u001b[0;34m,\u001b[0m\u001b[0;34m\u001b[0m\u001b[0;34m\u001b[0m\u001b[0m\n\u001b[1;32m     10\u001b[0m              \u001b[0moverwrite_if_exists\u001b[0m\u001b[0;34m=\u001b[0m\u001b[0;32mTrue\u001b[0m\u001b[0;34m,\u001b[0m\u001b[0;34m\u001b[0m\u001b[0;34m\u001b[0m\u001b[0m\n",
      "\u001b[0;32m~/.local/lib/python3.10/site-packages/cookiecutter/main.py\u001b[0m in \u001b[0;36mcookiecutter\u001b[0;34m(template, checkout, no_input, extra_context, replay, overwrite_if_exists, output_dir, config_file, default_config, password, directory, skip_if_file_exists, accept_hooks, keep_project_on_failure)\u001b[0m\n\u001b[1;32m    173\u001b[0m     \u001b[0;31m# Create project from local context and project template.\u001b[0m\u001b[0;34m\u001b[0m\u001b[0;34m\u001b[0m\u001b[0m\n\u001b[1;32m    174\u001b[0m     \u001b[0;32mwith\u001b[0m \u001b[0mimport_patch\u001b[0m\u001b[0;34m:\u001b[0m\u001b[0;34m\u001b[0m\u001b[0;34m\u001b[0m\u001b[0m\n\u001b[0;32m--> 175\u001b[0;31m         result = generate_files(\n\u001b[0m\u001b[1;32m    176\u001b[0m             \u001b[0mrepo_dir\u001b[0m\u001b[0;34m=\u001b[0m\u001b[0mrepo_dir\u001b[0m\u001b[0;34m,\u001b[0m\u001b[0;34m\u001b[0m\u001b[0;34m\u001b[0m\u001b[0m\n\u001b[1;32m    177\u001b[0m             \u001b[0mcontext\u001b[0m\u001b[0;34m=\u001b[0m\u001b[0mcontext\u001b[0m\u001b[0;34m,\u001b[0m\u001b[0;34m\u001b[0m\u001b[0;34m\u001b[0m\u001b[0m\n",
      "\u001b[0;32m~/.local/lib/python3.10/site-packages/cookiecutter/generate.py\u001b[0m in \u001b[0;36mgenerate_files\u001b[0;34m(repo_dir, context, output_dir, overwrite_if_exists, skip_if_file_exists, accept_hooks, keep_project_on_failure)\u001b[0m\n\u001b[1;32m    322\u001b[0m     \u001b[0;32mexcept\u001b[0m \u001b[0mUndefinedError\u001b[0m \u001b[0;32mas\u001b[0m \u001b[0merr\u001b[0m\u001b[0;34m:\u001b[0m\u001b[0;34m\u001b[0m\u001b[0;34m\u001b[0m\u001b[0m\n\u001b[1;32m    323\u001b[0m         \u001b[0mmsg\u001b[0m \u001b[0;34m=\u001b[0m \u001b[0;34mf\"Unable to create project directory '{unrendered_dir}'\"\u001b[0m\u001b[0;34m\u001b[0m\u001b[0;34m\u001b[0m\u001b[0m\n\u001b[0;32m--> 324\u001b[0;31m         \u001b[0;32mraise\u001b[0m \u001b[0mUndefinedVariableInTemplate\u001b[0m\u001b[0;34m(\u001b[0m\u001b[0mmsg\u001b[0m\u001b[0;34m,\u001b[0m \u001b[0merr\u001b[0m\u001b[0;34m,\u001b[0m \u001b[0mcontext\u001b[0m\u001b[0;34m)\u001b[0m \u001b[0;32mfrom\u001b[0m \u001b[0merr\u001b[0m\u001b[0;34m\u001b[0m\u001b[0;34m\u001b[0m\u001b[0m\n\u001b[0m\u001b[1;32m    325\u001b[0m \u001b[0;34m\u001b[0m\u001b[0m\n\u001b[1;32m    326\u001b[0m     \u001b[0;31m# We want the Jinja path and the OS paths to match. Consequently, we'll:\u001b[0m\u001b[0;34m\u001b[0m\u001b[0;34m\u001b[0m\u001b[0m\n",
      "\u001b[0;31mUndefinedVariableInTemplate\u001b[0m: Unable to create project directory '{{cookiecutter.farm_name}}'. Error message: 'collections.OrderedDict object' has no attribute 'farm_name'. Context: OrderedDict([('cookiecutter', OrderedDict([('model_name', 'tomato_0'), ('world_name', 'tomato_field'), ('_template', '/home/ayilmaz/random_farm_ws/src/gazebo_tomato_farm_generator/templates/tomato_model_gazebo_classic_and_sim'), ('_output_dir', '/home/ayilmaz/random_farm_ws/src/gazebo_tomato_farm_generator/generated/8mx7m'), ('_repo_dir', '/home/ayilmaz/random_farm_ws/src/gazebo_tomato_farm_generator/templates/tomato_model_gazebo_classic_and_sim'), ('_checkout', None)])), ('_cookiecutter', {'model_name': 'tomato_0', 'world_name': 'tomato_field'})])"
     ]
    }
   ],
   "source": [
    "models = {'list': []}\n",
    "Markers.reset()\n",
    "\n",
    "for x in range(ROW_COUNT):\n",
    "    for y in range(CROP_NUM_IN_A_ROW):\n",
    "        model_name = 'tomato_{}'.format(x * CROP_NUM_IN_A_ROW + y)\n",
    "\n",
    "        cookiecutter(str(MODEL_TEMPLATE),\n",
    "             output_dir=str(OUT_PATH) + '/' + str(FARM_NAME), \n",
    "             overwrite_if_exists=True, \n",
    "             no_input=True,\n",
    "             extra_context={'world_name': WORLD_NAME, 'model_name': model_name})\n",
    "\n",
    "        x_pos, y_pos, z_pos = x * ROW_DIST - ((ROW_COUNT - 1)*ROW_DIST)/2, y * CROP_DIST - ROW_LENGTH/2, 0\n",
    "        models['list'].append({\n",
    "            'model': model_name,\n",
    "            'name': model_name,\n",
    "            'pose': '{} {} 0 0 0 0'.format(x_pos, y_pos)\n",
    "        })\n",
    "        x_pos += np.random.uniform(-0.1, 0.1)\n",
    "        y_pos += np.random.uniform(-0.1, 0.1)\n",
    "        seed = np.random.randint(10000)\n",
    "        dir = (OUT_PATH / WORLD_NAME / FARM_NAME / model_name).resolve()\n",
    "        dir_blender = (Path.cwd() / '../blender').resolve()\n",
    "        blend = str(dir_blender / 'tomato_gen.blend')\n",
    "        script = str(dir_blender / 'tomato_gen.py')\n",
    "        ! blender $blend --background --python $script -- --model_dir $dir --seed $seed\n",
    "\n",
    "        plant_id = Markers.add_plant(x_pos, y_pos, z_pos)\n",
    "        with open(dir / 'markers.json') as markers_file:\n",
    "            plant_markers = json.load(markers_file)\n",
    "            for marker in plant_markers:\n",
    "                if marker['marker_type'] == 'FRUIT':\n",
    "                    Markers.add_fruit(\n",
    "                        marker['translation'][0] + x_pos,\n",
    "                        marker['translation'][1] + y_pos,\n",
    "                        marker['translation'][2] + z_pos,\n",
    "                        plant_id\n",
    "                    )"
   ]
  },
  {
   "cell_type": "code",
   "execution_count": 10,
   "metadata": {},
   "outputs": [
    {
     "data": {
      "text/plain": [
       "'/home/ayilmaz/random_farm_ws/src/gazebo_tomato_farm_generator/generated/8mx7m/tomato_field'"
      ]
     },
     "execution_count": 10,
     "metadata": {},
     "output_type": "execute_result"
    }
   ],
   "source": [
    "cookiecutter(str(WORLD_TEMPLATE),\n",
    "             output_dir=str(OUT_PATH)+'/'+str(FARM_NAME), \n",
    "             overwrite_if_exists=True, \n",
    "             no_input=True,\n",
    "             extra_context={'world_name': WORLD_NAME, 'models': models, 'farm_area_x': str(FARM_SIZE[0]), 'farm_area_y': str(FARM_SIZE[1])})\n"
   ]
  },
  {
   "cell_type": "code",
   "execution_count": null,
   "metadata": {},
   "outputs": [],
   "source": [
    "with open(OUT_PATH / WORLD_NAME / FARM_NAME / 'markers.json', 'w') as outfile:\n",
    "    json.dump(Markers.markers, outfile, indent=4, sort_keys=True)"
   ]
  },
  {
   "cell_type": "code",
   "execution_count": null,
   "metadata": {},
   "outputs": [],
   "source": []
  }
 ],
 "metadata": {
  "celltoolbar": "Tags",
  "kernel_info": {
   "name": "python3"
  },
  "kernelspec": {
   "display_name": "Python 3 (ipykernel)",
   "language": "python",
   "name": "python3"
  },
  "language_info": {
   "codemirror_mode": {
    "name": "ipython",
    "version": 3
   },
   "file_extension": ".py",
   "mimetype": "text/x-python",
   "name": "python",
   "nbconvert_exporter": "python",
   "pygments_lexer": "ipython3",
   "version": "3.10.12"
  },
  "nteract": {
   "version": "0.22.0"
  }
 },
 "nbformat": 4,
 "nbformat_minor": 2
}
