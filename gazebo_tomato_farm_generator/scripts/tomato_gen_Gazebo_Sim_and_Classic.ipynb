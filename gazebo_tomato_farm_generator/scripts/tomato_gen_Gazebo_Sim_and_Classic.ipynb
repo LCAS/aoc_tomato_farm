{
 "cells": [
  {
   "cell_type": "code",
   "execution_count": 1,
   "metadata": {},
   "outputs": [
    {
     "name": "stderr",
     "output_type": "stream",
     "text": [
      "1697705919.527879 [0]    python3: selected interface \"lo\" is not multicast-capable: disabling multicast\n"
     ]
    }
   ],
   "source": [
    "# Based on works of https://github.com/azazdeaz/fields-ignition\n"
    "import rclpy\n",
    "from rclpy.node import Node\n",
    "import sys\n",
    "import numpy as np\n",
    "import collections\n",
    "from pathlib import Path\n",
    "import json\n",
    "import shutil\n",
    "from cookiecutter.main import cookiecutter\n",
    "import math\n",
    "\n",
    "rclpy.init(args=sys.argv)\n",
    "node = rclpy.create_node('tomato_farm_generate')"
   ]
  },
  {
   "cell_type": "code",
   "execution_count": 2,
   "metadata": {},
   "outputs": [
    {
     "name": "stdout",
     "output_type": "stream",
     "text": [
      "param \"~seed\" = \"1000\"\n",
      "param \"~model_name_prefix\" = \"tomato\"\n",
      "param \"~row_count\" = \"1\"\n",
      "param \"~row_length\" = \"2\"\n",
      "param \"~row_dist\" = \"2.0\"\n",
      "param \"~crop_dist\" = \"2.0\"\n",
      "param \"~world_name\" = \"4mx6m\"\n"
     ]
    }
   ],
   "source": [
    "def get_param(name, default):\n",
    "    try:\n",
    "        value = node.declare_parameter(name, default).value\n",
    "    except ConnectionRefusedError:\n",
    "        value = default\n",
    "    print('param \"{}\" = \"{}\"'.format(name, value))\n",
    "    return value\n",
    "\n",
    "SEED = int(get_param('~seed', '1000'))\n",
    "MODEL_NAME_PREFIX = get_param('~model_name_prefix', 'tomato')\n",
    "ROW_COUNT = int(get_param('~row_count', '1'))\n",
    "ROW_LENGTH = int(get_param('~row_length', '2'))\n",
    "ROW_DIST = float(get_param('~row_dist', '2.0'))\n",
    "CROP_DIST = float(get_param('~crop_dist', '2.0'))\n",
    "CROP_NUM_IN_A_ROW = int(math.floor(ROW_LENGTH/CROP_DIST + 1))\n",
    "FARM_SIZE = [math.ceil((ROW_COUNT + 1) * ROW_DIST), math.ceil(ROW_LENGTH + 2 * ROW_DIST)]\n",
    "FARM_NAME = str(FARM_SIZE[0]) + 'mx' + str(FARM_SIZE[1]) + 'm'\n",
    "WORLD_NAME = get_param('~world_name', FARM_NAME)"
   ]
  },
  {
   "cell_type": "code",
   "execution_count": 3,
   "metadata": {},
   "outputs": [
    {
     "name": "stdout",
     "output_type": "stream",
     "text": [
      "param \"~out_path\" = \"/home/ayilmaz/random_farm_ws/src/gazebo_tomato_farm_generator/generated/farm_4mx6m\"\n",
      "param \"~world_template\" = \"/home/ayilmaz/random_farm_ws/src/gazebo_tomato_farm_generator/templates/tomato_world_gazebo_classic_and_sim\"\n",
      "param \"~model_template\" = \"/home/ayilmaz/random_farm_ws/src/gazebo_tomato_farm_generator/templates/tomato_model_gazebo_classic_and_sim\"\n"
     ]
    }
   ],
   "source": [
    "OUT_PATH = Path(get_param('~out_path', str(Path().resolve().parent / 'generated/farm_') + WORLD_NAME)).resolve()\n",
    "#OUT_PATH = Path(get_param('~out_path', str(Path().resolve().parent / 'generated'))).resolve()\n",
    "WORLD_TEMPLATE = Path(get_param('~world_template', str(Path().resolve().parent / 'templates/tomato_world_gazebo_classic_and_sim'))).resolve()\n",
    "MODEL_TEMPLATE = Path(get_param('~model_template', str(Path().resolve().parent / 'templates/tomato_model_gazebo_classic_and_sim'))).resolve()\n",
    "\n",
    "shutil.rmtree(OUT_PATH, ignore_errors=True)\n",
    "np.random.seed(SEED)\n"
   ]
  },
  {
   "cell_type": "code",
   "execution_count": 4,
   "metadata": {},
   "outputs": [],
   "source": [
    "# helper class to build the markers.json\n",
    "class Markers:\n",
    "    markers = []\n",
    "    last_id = 0\n",
    "\n",
    "    @staticmethod\n",
    "    def next_id():\n",
    "        Markers.last_id += 1\n",
    "        return Markers.last_id\n",
    "\n",
    "    @staticmethod\n",
    "    def reset():\n",
    "        Markers.markers = []\n",
    "    \n",
    "    @staticmethod\n",
    "    def add_plant(x, y, z):\n",
    "        id = Markers.next_id()\n",
    "        Markers.markers.append({\n",
    "            'marker_type': 'PLANT',\n",
    "            'id': id,\n",
    "            'translation': [x, y, z]\n",
    "        })\n",
    "        return id\n",
    "    \n",
    "\n",
    "    @staticmethod\n",
    "    def add_fruit(x, y, z, plant_id):\n",
    "        id = Markers.next_id()\n",
    "        Markers.markers.append({\n",
    "            'marker_type': 'FRUIT',\n",
    "            'id': id,\n",
    "            'translation': [x, y, z],\n",
    "            'plant_id': plant_id\n",
    "        })\n",
    "        return id\n",
    "    \n",
    "    @staticmethod\n",
    "    def dumps():\n",
    "        return json.dumps(Markers.markers, indent=4)"
   ]
  },
  {
   "cell_type": "code",
   "execution_count": 5,
   "metadata": {},
   "outputs": [
    {
     "name": "stdout",
     "output_type": "stream",
     "text": [
      "Color management: using fallback mode for management\n",
      "Color management: Error could not find role data role.\n",
      "Blender 3.0.1\n",
      "Color management: scene view \"Filmic\" not found, setting default \"Standard\".\n",
      "Read blend: /home/ayilmaz/random_farm_ws/src/gazebo_tomato_farm_generator/blender/tomato_gen.blend\n",
      "Color management: scene view \"Filmic\" not found, setting default \"Standard\".\n",
      "Color management: image colorspace \"Non-Color\" not found, will use default instead.\n",
      "Color management: image colorspace \"Non-Color\" not found, will use default instead.\n",
      "Color management: image colorspace \"Non-Color\" not found, will use default instead.\n",
      "Color management: image colorspace \"Non-Color\" not found, will use default instead.\n",
      "Color management: image colorspace \"Non-Color\" not found, will use default instead.\n",
      "Color management: image colorspace \"Non-Color\" not found, will use default instead.\n",
      "Color management: image colorspace \"Non-Color\" not found, will use default instead.\n",
      "Color management: image colorspace \"Non-Color\" not found, will use default instead.\n",
      "Color management: image colorspace \"Non-Color\" not found, will use default instead.\n",
      "Collada export to: /home/ayilmaz/random_farm_ws/src/gazebo_tomato_farm_generator/generated/farm_4mx6m/models/4mx6m/tomato_0/meshes/tomato.dae\n",
      "Info: Exported 6 Objects\n",
      "Info: Exported 6 Objects\n",
      "\n",
      "Blender quit\n",
      "Error: Not freed memory blocks: 7, total unfreed memory 0.001198 MB\n",
      "Color management: using fallback mode for management\n",
      "Color management: Error could not find role data role.\n",
      "Blender 3.0.1\n",
      "Color management: scene view \"Filmic\" not found, setting default \"Standard\".\n",
      "Read blend: /home/ayilmaz/random_farm_ws/src/gazebo_tomato_farm_generator/blender/tomato_gen.blend\n",
      "Color management: scene view \"Filmic\" not found, setting default \"Standard\".\n",
      "Color management: image colorspace \"Non-Color\" not found, will use default instead.\n",
      "Color management: image colorspace \"Non-Color\" not found, will use default instead.\n",
      "Color management: image colorspace \"Non-Color\" not found, will use default instead.\n",
      "Color management: image colorspace \"Non-Color\" not found, will use default instead.\n",
      "Color management: image colorspace \"Non-Color\" not found, will use default instead.\n",
      "Color management: image colorspace \"Non-Color\" not found, will use default instead.\n",
      "Color management: image colorspace \"Non-Color\" not found, will use default instead.\n",
      "Color management: image colorspace \"Non-Color\" not found, will use default instead.\n",
      "Color management: image colorspace \"Non-Color\" not found, will use default instead.\n",
      "Collada export to: /home/ayilmaz/random_farm_ws/src/gazebo_tomato_farm_generator/generated/farm_4mx6m/models/4mx6m/tomato_1/meshes/tomato.dae\n",
      "Info: Exported 9 Objects\n",
      "Info: Exported 9 Objects\n",
      "\n",
      "Blender quit\n",
      "Error: Not freed memory blocks: 7, total unfreed memory 0.001198 MB\n"
     ]
    }
   ],
   "source": [
    "models = {'list': []}\n",
    "Markers.reset()\n",
    "\n",
    "for x in range(ROW_COUNT):\n",
    "    for y in range(CROP_NUM_IN_A_ROW):\n",
    "        model_name = 'tomato_{}'.format(x * CROP_NUM_IN_A_ROW + y)\n",
    "\n",
    "        cookiecutter(str(MODEL_TEMPLATE),\n",
    "                     output_dir=str(OUT_PATH),\n",
    "                     overwrite_if_exists=True, no_input=True,\n",
    "             extra_context={'world_name': WORLD_NAME, \n",
    "                            'model_name': model_name, 'models': \"models\"})\n",
    "\n",
    "        x_pos, y_pos, z_pos = x * ROW_DIST - ((ROW_COUNT - 1)*ROW_DIST)/2, y * CROP_DIST - ROW_LENGTH/2, 0\n",
    "        models['list'].append({\n",
    "            'model': model_name,\n",
    "            'name': model_name,\n",
    "            'pose': '{} {} 0 0 0 0'.format(x_pos, y_pos)\n",
    "        })\n",
    "        x_pos += np.random.uniform(-0.1, 0.1)\n",
    "        y_pos += np.random.uniform(-0.1, 0.1)\n",
    "        seed = np.random.randint(10000)\n",
    "        dir = (OUT_PATH / 'models' / WORLD_NAME / model_name).resolve()\n",
    "        dir_blender = (Path.cwd() / '../blender').resolve()\n",
    "        blend = str(dir_blender / 'tomato_gen.blend')\n",
    "        script = str(dir_blender / 'tomato_gen.py')\n",
    "        ! blender $blend --background --python $script -- --model_dir $dir --seed $seed\n",
    "\n",
    "        plant_id = Markers.add_plant(x_pos, y_pos, z_pos)\n",
    "        with open(dir / 'markers.json') as markers_file:\n",
    "            plant_markers = json.load(markers_file)\n",
    "            for marker in plant_markers:\n",
    "                if marker['marker_type'] == 'FRUIT':\n",
    "                    Markers.add_fruit(\n",
    "                        marker['translation'][0] + x_pos,\n",
    "                        marker['translation'][1] + y_pos,\n",
    "                        marker['translation'][2] + z_pos,\n",
    "                        plant_id\n",
    "                    )"
   ]
  },
  {
   "cell_type": "code",
   "execution_count": 6,
   "metadata": {},
   "outputs": [
    {
     "data": {
      "text/plain": [
       "'/home/ayilmaz/random_farm_ws/src/gazebo_tomato_farm_generator/generated/farm_4mx6m/worlds'"
      ]
     },
     "execution_count": 6,
     "metadata": {},
     "output_type": "execute_result"
    }
   ],
   "source": [
    "cookiecutter(str(WORLD_TEMPLATE),\n",
    "             output_dir=str(OUT_PATH), \n",
    "             overwrite_if_exists=True, \n",
    "             no_input=True,\n",
    "             extra_context={'world_name': WORLD_NAME, 'models': models, 'farm_area_x': str(FARM_SIZE[0]), \n",
    "                            'farm_area_y': str(FARM_SIZE[1]), 'worlds': \"worlds\"})\n"
   ]
  },
  {
   "cell_type": "code",
   "execution_count": 7,
   "metadata": {},
   "outputs": [],
   "source": [
    "with open(OUT_PATH / 'models' / WORLD_NAME / 'markers.json', 'w') as outfile:\n",
    "    json.dump(Markers.markers, outfile, indent=4, sort_keys=True)"
   ]
  },
  {
   "cell_type": "code",
   "execution_count": null,
   "metadata": {},
   "outputs": [],
   "source": []
  }
 ],
 "metadata": {
  "celltoolbar": "Tags",
  "kernel_info": {
   "name": "python3"
  },
  "kernelspec": {
   "display_name": "Python 3 (ipykernel)",
   "language": "python",
   "name": "python3"
  },
  "language_info": {
   "codemirror_mode": {
    "name": "ipython",
    "version": 3
   },
   "file_extension": ".py",
   "mimetype": "text/x-python",
   "name": "python",
   "nbconvert_exporter": "python",
   "pygments_lexer": "ipython3",
   "version": "3.10.12"
  },
  "nteract": {
   "version": "0.22.0"
  }
 },
 "nbformat": 4,
 "nbformat_minor": 2
}
